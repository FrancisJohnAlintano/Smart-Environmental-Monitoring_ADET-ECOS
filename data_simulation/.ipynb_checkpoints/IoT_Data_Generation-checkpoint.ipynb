{
 "cells": [
  {
   "cell_type": "markdown",
   "metadata": {},
   "source": [
    "# IoT Environmental Monitoring Data Generation\n",
    "\n",
    "This notebook generates simulated data for environmental monitoring sensors including:\n",
    "- Air Quality (CO2 and PM2.5)\n",
    "- Temperature & Humidity\n",
    "- Soil Moisture\n",
    "- Water Quality (pH and turbidity)"
   ]
  },
  {
   "cell_type": "code",
   "execution_count": null,
   "metadata": {},
   "source": [
    "import pandas as pd\n",
    "import numpy as np\n",
    "from datetime import datetime, timedelta\n",
    "\n",
    "# Set random seed for reproducibility\n",
    "np.random.seed(42)"
   ]
  },
  {
   "cell_type": "code",
   "execution_count": null,
   "metadata": {},
   "source": [
    "# Generate timestamps for 24 hours of data at 5-minute intervals\n",
    "timestamps = [datetime.now() - timedelta(minutes=i*5) for i in range(288)]\n",
    "timestamps.reverse()  # Make timestamps go forward in time\n",
    "\n",
    "# Initialize data dictionary\n",
    "data = {\n",
    "    'timestamp': timestamps,\n",
    "    \n",
    "    # Air Quality Sensors\n",
    "    'co2_ppm': np.random.normal(400, 50, len(timestamps)),  # CO2 in parts per million\n",
    "    'pm25_ugm3': np.random.normal(15, 5, len(timestamps)),  # PM2.5 in µg/m³\n",
    "    \n",
    "    # Temperature & Humidity Sensors\n",
    "    'temperature_c': np.random.normal(25, 3, len(timestamps)),  # Temperature in Celsius\n",
    "    'humidity_pct': np.random.normal(60, 10, len(timestamps)),  # Humidity percentage\n",
    "    \n",
    "    # Soil Moisture Sensors\n",
    "    'soil_moisture_pct': np.random.normal(35, 5, len(timestamps)),  # Soil moisture percentage\n",
    "    \n",
    "    # Water Quality Sensors\n",
    "    'water_ph': np.random.normal(7, 0.5, len(timestamps)),  # pH level\n",
    "    'water_turbidity_ntu': np.random.normal(5, 1, len(timestamps)),  # Turbidity in NTU\n",
    "}"
   ]
  },
  {
   "cell_type": "code",
   "execution_count": null,
   "metadata": {},
   "source": [
    "# Create DataFrame\n",
    "df = pd.DataFrame(data)\n",
    "\n",
    "# Apply constraints to make data more realistic\n",
    "df['co2_ppm'] = df['co2_ppm'].clip(350, 800)  # Typical outdoor CO2 range\n",
    "df['pm25_ugm3'] = df['pm25_ugm3'].clip(0, 50)  # Realistic PM2.5 range\n",
    "df['humidity_pct'] = df['humidity_pct'].clip(0, 100)  # Valid humidity range\n",
    "df['soil_moisture_pct'] = df['soil_moisture_pct'].clip(0, 100)  # Valid moisture range\n",
    "df['water_ph'] = df['water_ph'].clip(0, 14)  # Valid pH range\n",
    "df['water_turbidity_ntu'] = df['water_turbidity_ntu'].clip(0, 20)  # Typical turbidity range\n",
    "\n",
    "# Add some daily patterns to temperature\n",
    "time_of_day = np.array([(t.hour + t.minute/60) for t in df['timestamp']])\n",
    "temperature_variation = 2 * np.sin(2 * np.pi * (time_of_day - 14) / 24)  # Peak at 2 PM\n",
    "df['temperature_c'] += temperature_variation"
   ]
  },
  {
   "cell_type": "code",
   "execution_count": null,
   "metadata": {},
   "source": [
    "# Display the first few records\n",
    "print(\"Dataset preview:\")\n",
    "df.head()"
   ]
  },
  {
   "cell_type": "code",
   "execution_count": null,
   "metadata": {},
   "source": [
    "# Display summary statistics\n",
    "print(\"Dataset summary statistics:\")\n",
    "df.describe()"
   ]
  },
  {
   "cell_type": "code",
   "execution_count": null,
   "metadata": {},
   "source": [
    "# Save to CSV\n",
    "df.to_csv('iot_data.csv', index=False)\n",
    "print(\"Data saved to iot_data.csv\")"
   ]
  }
 ],
 "metadata": {
  "kernelspec": {
   "display_name": "Python 3",
   "language": "python",
   "name": "python3"
  },
  "language_info": {
   "codemirror_mode": {
    "name": "ipython",
    "version": 3
   },
   "file_extension": ".py",
   "mimetype": "text/x-python",
   "name": "python",
   "nbconvert_exporter": "python",
   "pygments_lexer": "ipython3",
   "version": "3.8.0"
  }
 },
 "nbformat": 4,
 "nbformat_minor": 4
}
